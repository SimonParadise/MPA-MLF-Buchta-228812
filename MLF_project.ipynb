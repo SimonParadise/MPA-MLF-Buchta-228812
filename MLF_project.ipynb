{
  "nbformat": 4,
  "nbformat_minor": 0,
  "metadata": {
    "colab": {
      "provenance": [],
      "authorship_tag": "ABX9TyPIugQh2jPg6z+F5RNZGR7f",
      "include_colab_link": true
    },
    "kernelspec": {
      "name": "python3",
      "display_name": "Python 3"
    },
    "language_info": {
      "name": "python"
    }
  },
  "cells": [
    {
      "cell_type": "markdown",
      "metadata": {
        "id": "view-in-github",
        "colab_type": "text"
      },
      "source": [
        "<a href=\"https://colab.research.google.com/github/SimonParadise/MPA-MLF-Buchta-228812/blob/main/MLF_project.ipynb\" target=\"_parent\"><img src=\"https://colab.research.google.com/assets/colab-badge.svg\" alt=\"Open In Colab\"/></a>"
      ]
    },
    {
      "cell_type": "code",
      "execution_count": 82,
      "metadata": {
        "id": "89b9242qeB4Q"
      },
      "outputs": [],
      "source": [
        "!pip install keras-tuner --quiet\n",
        "\n",
        "# Imports\n",
        "from tensorflow import keras\n",
        "from tensorflow.keras.models import Sequential\n",
        "from tensorflow.keras.datasets import mnist\n",
        "import numpy as np\n",
        "import matplotlib.pyplot as plt\n",
        "import pandas as pd\n",
        "\n",
        "from sklearn.preprocessing import StandardScaler\n",
        "from tensorflow.keras.layers import Conv2D, MaxPooling2D, Flatten, Dense, Dropout\n",
        "from tensorflow.keras.utils import to_categorical\n",
        "from tensorflow.keras.optimizers import Adam\n",
        "from google.colab import drive\n",
        "from google.colab import files\n",
        "import os\n",
        "from tensorflow.keras.layers import Input\n",
        "\n",
        "from kerastuner.tuners import RandomSearch\n",
        "from tensorflow.keras.callbacks import EarlyStopping\n",
        "\n"
      ]
    },
    {
      "cell_type": "code",
      "source": [
        "# Mount Google Drive\n",
        "drive.mount('/content/drive')\n",
        "\n",
        "# file paths\n",
        "label_path = '/content/drive/MyDrive/MyDrive/MLF/MPA-MLF_DATA_NEW/label_train.csv'\n",
        "npy_path = '/content/drive/MyDrive/MyDrive/MLF/MPA-MLF_DATA_NEW/Train'\n",
        "\n",
        "# Load CSV file of labels for training\n",
        "pd_dataset_train_label = pd.read_csv(label_path)\n",
        "print(pd_dataset_train_label)\n",
        "\n",
        "# load npy files for training\n",
        "files = sorted([f for f in os.listdir(npy_path)], key=lambda f: int(f.replace('.npy', '')))\n",
        "\n",
        "file_path = os.path.join(npy_path, files[426])  # Create the full path to the .npy file\n",
        "data = np.load(file_path)\n",
        "\n",
        "# print data\n",
        "print(data)\n",
        "print(data.shape)\n",
        "\n",
        "# plotting 2D graph of values from one file\n",
        "plt.imshow(data, cmap='binary')  # 'binary' gives a two-color map (black and white)\n",
        "plt.show()\n",
        "\n",
        "# checking for a range\n",
        "print(\"Min:\", data.min())\n",
        "print(\"Max:\", data.max())\n",
        "\n",
        "# showing how the npy train data are in the files:\n",
        "print(files[:10])"
      ],
      "metadata": {
        "colab": {
          "base_uri": "https://localhost:8080/",
          "height": 988
        },
        "id": "Va3glbWS8OvO",
        "outputId": "7cc588e4-ded4-4344-fcf4-992ef50a5f2e"
      },
      "execution_count": 79,
      "outputs": [
        {
          "output_type": "stream",
          "name": "stdout",
          "text": [
            "Drive already mounted at /content/drive; to attempt to forcibly remount, call drive.mount(\"/content/drive\", force_remount=True).\n",
            "        ID  target\n",
            "0        0       0\n",
            "1        1       0\n",
            "2        2       0\n",
            "3        3       0\n",
            "4        4       0\n",
            "...    ...     ...\n",
            "1486  1486       0\n",
            "1487  1487       1\n",
            "1488  1488       0\n",
            "1489  1489       0\n",
            "1490  1490       0\n",
            "\n",
            "[1491 rows x 2 columns]\n",
            "[[-25.30056666 -34.54445688 -44.03216144 ... -33.43543411 -42.21318327\n",
            "  -44.20080567]\n",
            " [-37.21657168 -28.83796589 -45.97329178 ... -34.13235963 -30.72768686\n",
            "  -41.97746687]\n",
            " [-34.31051981 -38.17045981 -44.83255253 ... -34.5931764  -46.7704932\n",
            "  -58.31586657]\n",
            " ...\n",
            " [-24.81139496 -24.35527671 -40.74519981 ... -11.69126833 -52.23467135\n",
            "  -61.16893254]\n",
            " [-33.45241254 -33.25408695 -41.33245363 ... -34.77979018 -40.67456753\n",
            "  -54.4493282 ]\n",
            " [-30.01098193 -26.85445864 -32.99086054 ... -34.30945241 -51.58250692\n",
            "  -59.80397625]]\n",
            "(72, 48)\n"
          ]
        },
        {
          "output_type": "display_data",
          "data": {
            "text/plain": [
              "<Figure size 640x480 with 1 Axes>"
            ],
            "image/png": "[encoded data removed]"
          },
          "metadata": {}
        },
        {
          "output_type": "stream",
          "name": "stdout",
          "text": [
            "Min: -61.16893254149212\n",
            "Max: 19.670490087247735\n",
            "['0.npy', '1.npy', '2.npy', '3.npy', '4.npy', '5.npy', '6.npy', '7.npy', '8.npy', '9.npy']\n"
          ]
        }
      ]
    },
    {
      "cell_type": "code",
      "source": [
        "# preparing list for the files from the Train folder\n",
        "# Load each file and collect into a list\n",
        "X_train = [np.load(os.path.join(npy_path, f)) for f in files]\n",
        "# stack into array\n",
        "X_train = np.stack(X_train)\n",
        "\n",
        "# showing shape of X_train\n",
        "print(X_train.shape)\n",
        "\n",
        "# Flatten: (1491, 72, 48) → (1491, 72 * 48)\n",
        "X_train_flat = X_train.reshape(X_train.shape[0], -1)\n",
        "\n",
        "# Standardize\n",
        "scaler = StandardScaler()\n",
        "X_scaled_flat = scaler.fit_transform(X_train_flat)\n",
        "\n",
        "# Reshape back: (1491, 72, 48)\n",
        "X_scaled = X_scaled_flat.reshape(X_train.shape)\n",
        "\n",
        "# showing shape of X_train scaled back after standardize\n",
        "print(X_scaled.shape)\n",
        "\n",
        "# hot end encode for labels\n",
        "train_labels_encoded = pd.get_dummies(pd_dataset_train_label, columns=['target'])\n",
        "train_labels_encoded = train_labels_encoded.astype(int)\n",
        "train_labels_encoded = train_labels_encoded.drop(columns=['ID'])\n",
        "\n",
        "# show encoded targets\n",
        "print(train_labels_encoded)"
      ],
      "metadata": {
        "colab": {
          "base_uri": "https://localhost:8080/"
        },
        "id": "2Gdc5ztY3tQv",
        "outputId": "9fa220dd-ae17-4249-ebfe-03b91e443971"
      },
      "execution_count": 80,
      "outputs": [
        {
          "output_type": "stream",
          "name": "stdout",
          "text": [
            "(1491, 72, 48)\n",
            "(1491, 72, 48)\n",
            "      target_0  target_1  target_2\n",
            "0            1         0         0\n",
            "1            1         0         0\n",
            "2            1         0         0\n",
            "3            1         0         0\n",
            "4            1         0         0\n",
            "...        ...       ...       ...\n",
            "1486         1         0         0\n",
            "1487         0         1         0\n",
            "1488         1         0         0\n",
            "1489         1         0         0\n",
            "1490         1         0         0\n",
            "\n",
            "[1491 rows x 3 columns]\n"
          ]
        }
      ]
    },
    {
      "cell_type": "code",
      "source": [
        "# model architecture - first structure:\n",
        "#model = Sequential()\n",
        "#model.add(Conv2D(32, (3, 3), activation='relu', input_shape=(72, 48, 1)))\n",
        "#model.add(MaxPooling2D((2, 2)))\n",
        "#model.add(Conv2D(64, (3, 3), activation='relu'))\n",
        "#model.add(MaxPooling2D((2, 2)))\n",
        "#model.add(Flatten())\n",
        "#model.add(Dense(64, activation='relu'))\n",
        "#model.add(Dense(3, activation='softmax'))\n",
        "\n",
        "# delete previous tuning\n",
        "import shutil\n",
        "shutil.rmtree('tuning_dir/cnn_tuning', ignore_errors=True)\n",
        "\n",
        "#definition of model in a function for using in hyperparameter tuning\n",
        "def build_model(hp):\n",
        "    model = Sequential()\n",
        "    model.add(Conv2D(\n",
        "        filters=hp.Choice('conv1_filters', values=[32, 64]),\n",
        "        kernel_size=(3, 3),\n",
        "        activation='relu',\n",
        "        input_shape=(72, 48, 1)\n",
        "    ))\n",
        "    model.add(MaxPooling2D((2, 2)))\n",
        "\n",
        "    # Optional second conv layer\n",
        "    if hp.Boolean('use_second_conv'):\n",
        "        model.add(Conv2D(\n",
        "            filters=hp.Choice('conv2_filters', [32, 64]),\n",
        "            kernel_size=(3, 3),\n",
        "            activation='relu'\n",
        "        ))\n",
        "        model.add(MaxPooling2D((2, 2)))\n",
        "\n",
        "    model.add(Flatten())\n",
        "    model.add(Dense(\n",
        "        units=hp.Choice('dense_units', values=[32, 64, 128]),\n",
        "        activation='relu'\n",
        "    ))\n",
        "\n",
        "    # Optional dropout\n",
        "    if hp.Boolean('use_dropout'):\n",
        "        model.add(Dropout(rate=hp.Float('dropout_rate', 0.1, 0.5, step=0.1)))\n",
        "\n",
        "    model.add(Dense(3, activation='softmax'))\n",
        "\n",
        "    model.compile(\n",
        "        optimizer=Adam(learning_rate=hp.Choice('lr', values=[1e-2, 1e-3, 1e-4])),\n",
        "        loss='categorical_crossentropy',\n",
        "        metrics=['accuracy']\n",
        "    )\n",
        "\n",
        "    return model\n",
        "\n",
        "# tuner to get the hyperparameters:\n",
        "tuner = RandomSearch(\n",
        "    build_model,\n",
        "    objective='val_accuracy',\n",
        "    max_trials=20,\n",
        "    directory='tuning_dir',\n",
        "    project_name='cnn_tuning'\n",
        ")\n",
        "\n",
        "# run the tuner\n",
        "tuner.search(\n",
        "    X_scaled.reshape(-1, 72, 48, 1),  # Reshaping your data to match the input\n",
        "    train_labels_encoded,\n",
        "    epochs=10,\n",
        "    validation_split=0.2,\n",
        "    callbacks=[EarlyStopping(monitor='val_loss', patience=2)],\n",
        "    batch_size=64,\n",
        "    verbose=2\n",
        ")\n",
        "\n",
        "# printing the tuned hyperparameters of the model:\n",
        "best_hps = tuner.get_best_hyperparameters(1)[0]\n",
        "print(\"\\nBest Hyperparameters:\")\n",
        "for hp_name in best_hps.values.keys():\n",
        "    print(f\"{hp_name}: {best_hps.get(hp_name)}\")\n",
        "\n",
        "#print(\"Best conv1_filters:\", best_hps.get('conv1_filters'))\n",
        "#print(\"Best conv2_filters:\", best_hps.get('conv2_filters'))\n",
        "#print(\"Best dense_units:\", best_hps.get('dense_units'))\n",
        "#print(\"Best learning rate:\", best_hps.get('lr'))\n",
        "\n",
        "best_model = tuner.get_best_models(1)[0]\n",
        "best_model.summary()"
      ],
      "metadata": {
        "colab": {
          "base_uri": "https://localhost:8080/",
          "height": 717
        },
        "id": "nuzB8Z1_KlOH",
        "outputId": "79cdc5af-5b24-4e9b-e742-f024e95e270e"
      },
      "execution_count": 54,
      "outputs": [
        {
          "output_type": "stream",
          "name": "stdout",
          "text": [
            "Trial 20 Complete [00h 00m 38s]\n",
            "val_accuracy: 0.9966555237770081\n",
            "\n",
            "Best val_accuracy So Far: 0.9966555237770081\n",
            "Total elapsed time: 00h 21m 01s\n",
            "\n",
            "Best Hyperparameters:\n",
            "conv1_filters: 32\n",
            "use_second_conv: True\n",
            "dense_units: 64\n",
            "use_dropout: True\n",
            "lr: 0.001\n",
            "conv2_filters: 32\n",
            "dropout_rate: 0.1\n"
          ]
        },
        {
          "output_type": "stream",
          "name": "stderr",
          "text": [
            "/usr/local/lib/python3.11/dist-packages/keras/src/layers/convolutional/base_conv.py:107: UserWarning: Do not pass an `input_shape`/`input_dim` argument to a layer. When using Sequential models, prefer using an `Input(shape)` object as the first layer in the model instead.\n",
            "  super().__init__(activity_regularizer=activity_regularizer, **kwargs)\n",
            "/usr/local/lib/python3.11/dist-packages/keras/src/saving/saving_lib.py:757: UserWarning: Skipping variable loading for optimizer 'adam', because it has 2 variables whereas the saved optimizer has 18 variables. \n",
            "  saveable.load_own_variables(weights_store.get(inner_path))\n"
          ]
        },
        {
          "output_type": "display_data",
          "data": {
            "text/plain": [
              "\u001b[1mModel: \"sequential\"\u001b[0m\n"
            ],
            "text/html": [
              "<pre style=\"white-space:pre;overflow-x:auto;line-height:normal;font-family:Menlo,'DejaVu Sans Mono',consolas,'Courier New',monospace\"><span style=\"font-weight: bold\">Model: \"sequential\"</span>\n",
              "</pre>\n"
            ]
          },
          "metadata": {}
        },
        {
          "output_type": "display_data",
          "data": {
            "text/plain": [
              "┏━━━━━━━━━━━━━━━━━━━━━━━━━━━━━━━━━┳━━━━━━━━━━━━━━━━━━━━━━━━┳━━━━━━━━━━━━━━━┓\n",
              "┃\u001b[1m \u001b[0m\u001b[1mLayer (type)                   \u001b[0m\u001b[1m \u001b[0m┃\u001b[1m \u001b[0m\u001b[1mOutput Shape          \u001b[0m\u001b[1m \u001b[0m┃\u001b[1m \u001b[0m\u001b[1m      Param #\u001b[0m\u001b[1m \u001b[0m┃\n",
              "┡━━━━━━━━━━━━━━━━━━━━━━━━━━━━━━━━━╇━━━━━━━━━━━━━━━━━━━━━━━━╇━━━━━━━━━━━━━━━┩\n",
              "│ conv2d (\u001b[38;5;33mConv2D\u001b[0m)                 │ (\u001b[38;5;45mNone\u001b[0m, \u001b[38;5;34m70\u001b[0m, \u001b[38;5;34m46\u001b[0m, \u001b[38;5;34m32\u001b[0m)     │           \u001b[38;5;34m320\u001b[0m │\n",
              "├─────────────────────────────────┼────────────────────────┼───────────────┤\n",
              "│ max_pooling2d (\u001b[38;5;33mMaxPooling2D\u001b[0m)    │ (\u001b[38;5;45mNone\u001b[0m, \u001b[38;5;34m35\u001b[0m, \u001b[38;5;34m23\u001b[0m, \u001b[38;5;34m32\u001b[0m)     │             \u001b[38;5;34m0\u001b[0m │\n",
              "├─────────────────────────────────┼────────────────────────┼───────────────┤\n",
              "│ conv2d_1 (\u001b[38;5;33mConv2D\u001b[0m)               │ (\u001b[38;5;45mNone\u001b[0m, \u001b[38;5;34m33\u001b[0m, \u001b[38;5;34m21\u001b[0m, \u001b[38;5;34m32\u001b[0m)     │         \u001b[38;5;34m9,248\u001b[0m │\n",
              "├─────────────────────────────────┼────────────────────────┼───────────────┤\n",
              "│ max_pooling2d_1 (\u001b[38;5;33mMaxPooling2D\u001b[0m)  │ (\u001b[38;5;45mNone\u001b[0m, \u001b[38;5;34m16\u001b[0m, \u001b[38;5;34m10\u001b[0m, \u001b[38;5;34m32\u001b[0m)     │             \u001b[38;5;34m0\u001b[0m │\n",
              "├─────────────────────────────────┼────────────────────────┼───────────────┤\n",
              "│ flatten (\u001b[38;5;33mFlatten\u001b[0m)               │ (\u001b[38;5;45mNone\u001b[0m, \u001b[38;5;34m5120\u001b[0m)           │             \u001b[38;5;34m0\u001b[0m │\n",
              "├─────────────────────────────────┼────────────────────────┼───────────────┤\n",
              "│ dense (\u001b[38;5;33mDense\u001b[0m)                   │ (\u001b[38;5;45mNone\u001b[0m, \u001b[38;5;34m64\u001b[0m)             │       \u001b[38;5;34m327,744\u001b[0m │\n",
              "├─────────────────────────────────┼────────────────────────┼───────────────┤\n",
              "│ dropout (\u001b[38;5;33mDropout\u001b[0m)               │ (\u001b[38;5;45mNone\u001b[0m, \u001b[38;5;34m64\u001b[0m)             │             \u001b[38;5;34m0\u001b[0m │\n",
              "├─────────────────────────────────┼────────────────────────┼───────────────┤\n",
              "│ dense_1 (\u001b[38;5;33mDense\u001b[0m)                 │ (\u001b[38;5;45mNone\u001b[0m, \u001b[38;5;34m3\u001b[0m)              │           \u001b[38;5;34m195\u001b[0m │\n",
              "└─────────────────────────────────┴────────────────────────┴───────────────┘\n"
            ],
            "text/html": [
              "<pre style=\"white-space:pre;overflow-x:auto;line-height:normal;font-family:Menlo,'DejaVu Sans Mono',consolas,'Courier New',monospace\">┏━━━━━━━━━━━━━━━━━━━━━━━━━━━━━━━━━┳━━━━━━━━━━━━━━━━━━━━━━━━┳━━━━━━━━━━━━━━━┓\n",
              "┃<span style=\"font-weight: bold\"> Layer (type)                    </span>┃<span style=\"font-weight: bold\"> Output Shape           </span>┃<span style=\"font-weight: bold\">       Param # </span>┃\n",
              "┡━━━━━━━━━━━━━━━━━━━━━━━━━━━━━━━━━╇━━━━━━━━━━━━━━━━━━━━━━━━╇━━━━━━━━━━━━━━━┩\n",
              "│ conv2d (<span style=\"color: #0087ff; text-decoration-color: #0087ff\">Conv2D</span>)                 │ (<span style=\"color: #00d7ff; text-decoration-color: #00d7ff\">None</span>, <span style=\"color: #00af00; text-decoration-color: #00af00\">70</span>, <span style=\"color: #00af00; text-decoration-color: #00af00\">46</span>, <span style=\"color: #00af00; text-decoration-color: #00af00\">32</span>)     │           <span style=\"color: #00af00; text-decoration-color: #00af00\">320</span> │\n",
              "├─────────────────────────────────┼────────────────────────┼───────────────┤\n",
              "│ max_pooling2d (<span style=\"color: #0087ff; text-decoration-color: #0087ff\">MaxPooling2D</span>)    │ (<span style=\"color: #00d7ff; text-decoration-color: #00d7ff\">None</span>, <span style=\"color: #00af00; text-decoration-color: #00af00\">35</span>, <span style=\"color: #00af00; text-decoration-color: #00af00\">23</span>, <span style=\"color: #00af00; text-decoration-color: #00af00\">32</span>)     │             <span style=\"color: #00af00; text-decoration-color: #00af00\">0</span> │\n",
              "├─────────────────────────────────┼────────────────────────┼───────────────┤\n",
              "│ conv2d_1 (<span style=\"color: #0087ff; text-decoration-color: #0087ff\">Conv2D</span>)               │ (<span style=\"color: #00d7ff; text-decoration-color: #00d7ff\">None</span>, <span style=\"color: #00af00; text-decoration-color: #00af00\">33</span>, <span style=\"color: #00af00; text-decoration-color: #00af00\">21</span>, <span style=\"color: #00af00; text-decoration-color: #00af00\">32</span>)     │         <span style=\"color: #00af00; text-decoration-color: #00af00\">9,248</span> │\n",
              "├─────────────────────────────────┼────────────────────────┼───────────────┤\n",
              "│ max_pooling2d_1 (<span style=\"color: #0087ff; text-decoration-color: #0087ff\">MaxPooling2D</span>)  │ (<span style=\"color: #00d7ff; text-decoration-color: #00d7ff\">None</span>, <span style=\"color: #00af00; text-decoration-color: #00af00\">16</span>, <span style=\"color: #00af00; text-decoration-color: #00af00\">10</span>, <span style=\"color: #00af00; text-decoration-color: #00af00\">32</span>)     │             <span style=\"color: #00af00; text-decoration-color: #00af00\">0</span> │\n",
              "├─────────────────────────────────┼────────────────────────┼───────────────┤\n",
              "│ flatten (<span style=\"color: #0087ff; text-decoration-color: #0087ff\">Flatten</span>)               │ (<span style=\"color: #00d7ff; text-decoration-color: #00d7ff\">None</span>, <span style=\"color: #00af00; text-decoration-color: #00af00\">5120</span>)           │             <span style=\"color: #00af00; text-decoration-color: #00af00\">0</span> │\n",
              "├─────────────────────────────────┼────────────────────────┼───────────────┤\n",
              "│ dense (<span style=\"color: #0087ff; text-decoration-color: #0087ff\">Dense</span>)                   │ (<span style=\"color: #00d7ff; text-decoration-color: #00d7ff\">None</span>, <span style=\"color: #00af00; text-decoration-color: #00af00\">64</span>)             │       <span style=\"color: #00af00; text-decoration-color: #00af00\">327,744</span> │\n",
              "├─────────────────────────────────┼────────────────────────┼───────────────┤\n",
              "│ dropout (<span style=\"color: #0087ff; text-decoration-color: #0087ff\">Dropout</span>)               │ (<span style=\"color: #00d7ff; text-decoration-color: #00d7ff\">None</span>, <span style=\"color: #00af00; text-decoration-color: #00af00\">64</span>)             │             <span style=\"color: #00af00; text-decoration-color: #00af00\">0</span> │\n",
              "├─────────────────────────────────┼────────────────────────┼───────────────┤\n",
              "│ dense_1 (<span style=\"color: #0087ff; text-decoration-color: #0087ff\">Dense</span>)                 │ (<span style=\"color: #00d7ff; text-decoration-color: #00d7ff\">None</span>, <span style=\"color: #00af00; text-decoration-color: #00af00\">3</span>)              │           <span style=\"color: #00af00; text-decoration-color: #00af00\">195</span> │\n",
              "└─────────────────────────────────┴────────────────────────┴───────────────┘\n",
              "</pre>\n"
            ]
          },
          "metadata": {}
        },
        {
          "output_type": "display_data",
          "data": {
            "text/plain": [
              "\u001b[1m Total params: \u001b[0m\u001b[38;5;34m337,507\u001b[0m (1.29 MB)\n"
            ],
            "text/html": [
              "<pre style=\"white-space:pre;overflow-x:auto;line-height:normal;font-family:Menlo,'DejaVu Sans Mono',consolas,'Courier New',monospace\"><span style=\"font-weight: bold\"> Total params: </span><span style=\"color: #00af00; text-decoration-color: #00af00\">337,507</span> (1.29 MB)\n",
              "</pre>\n"
            ]
          },
          "metadata": {}
        },
        {
          "output_type": "display_data",
          "data": {
            "text/plain": [
              "\u001b[1m Trainable params: \u001b[0m\u001b[38;5;34m337,507\u001b[0m (1.29 MB)\n"
            ],
            "text/html": [
              "<pre style=\"white-space:pre;overflow-x:auto;line-height:normal;font-family:Menlo,'DejaVu Sans Mono',consolas,'Courier New',monospace\"><span style=\"font-weight: bold\"> Trainable params: </span><span style=\"color: #00af00; text-decoration-color: #00af00\">337,507</span> (1.29 MB)\n",
              "</pre>\n"
            ]
          },
          "metadata": {}
        },
        {
          "output_type": "display_data",
          "data": {
            "text/plain": [
              "\u001b[1m Non-trainable params: \u001b[0m\u001b[38;5;34m0\u001b[0m (0.00 B)\n"
            ],
            "text/html": [
              "<pre style=\"white-space:pre;overflow-x:auto;line-height:normal;font-family:Menlo,'DejaVu Sans Mono',consolas,'Courier New',monospace\"><span style=\"font-weight: bold\"> Non-trainable params: </span><span style=\"color: #00af00; text-decoration-color: #00af00\">0</span> (0.00 B)\n",
              "</pre>\n"
            ]
          },
          "metadata": {}
        }
      ]
    },
    {
      "cell_type": "code",
      "source": [
        "# model architecture\n",
        "\n",
        "model = Sequential()\n",
        "model.add(Input(shape=(72, 48, 1)))\n",
        "model.add(Conv2D(32, (3, 3), activation='relu'))\n",
        "model.add(MaxPooling2D(pool_size=(2, 2)))\n",
        "model.add(Conv2D(32, (3, 3), activation='relu'))\n",
        "model.add(MaxPooling2D(pool_size=(2, 2)))\n",
        "model.add(Flatten())\n",
        "model.add(Dense(64, activation='relu'))\n",
        "model.add(Dropout(0.1))\n",
        "model.add(Dense(3, activation='softmax'))\n",
        "\n",
        "model.summary()"
      ],
      "metadata": {
        "colab": {
          "base_uri": "https://localhost:8080/",
          "height": 385
        },
        "id": "8igNT0FXuSP6",
        "outputId": "03d46f0c-6b5b-4716-9057-169f0ad4d602"
      },
      "execution_count": 72,
      "outputs": [
        {
          "output_type": "display_data",
          "data": {
            "text/plain": [
              "\u001b[1mModel: \"sequential_3\"\u001b[0m\n"
            ],
            "text/html": [
              "<pre style=\"white-space:pre;overflow-x:auto;line-height:normal;font-family:Menlo,'DejaVu Sans Mono',consolas,'Courier New',monospace\"><span style=\"font-weight: bold\">Model: \"sequential_3\"</span>\n",
              "</pre>\n"
            ]
          },
          "metadata": {}
        },
        {
          "output_type": "display_data",
          "data": {
            "text/plain": [
              "┏━━━━━━━━━━━━━━━━━━━━━━━━━━━━━━━━━┳━━━━━━━━━━━━━━━━━━━━━━━━┳━━━━━━━━━━━━━━━┓\n",
              "┃\u001b[1m \u001b[0m\u001b[1mLayer (type)                   \u001b[0m\u001b[1m \u001b[0m┃\u001b[1m \u001b[0m\u001b[1mOutput Shape          \u001b[0m\u001b[1m \u001b[0m┃\u001b[1m \u001b[0m\u001b[1m      Param #\u001b[0m\u001b[1m \u001b[0m┃\n",
              "┡━━━━━━━━━━━━━━━━━━━━━━━━━━━━━━━━━╇━━━━━━━━━━━━━━━━━━━━━━━━╇━━━━━━━━━━━━━━━┩\n",
              "│ conv2d_4 (\u001b[38;5;33mConv2D\u001b[0m)               │ (\u001b[38;5;45mNone\u001b[0m, \u001b[38;5;34m70\u001b[0m, \u001b[38;5;34m46\u001b[0m, \u001b[38;5;34m32\u001b[0m)     │           \u001b[38;5;34m320\u001b[0m │\n",
              "├─────────────────────────────────┼────────────────────────┼───────────────┤\n",
              "│ max_pooling2d_4 (\u001b[38;5;33mMaxPooling2D\u001b[0m)  │ (\u001b[38;5;45mNone\u001b[0m, \u001b[38;5;34m35\u001b[0m, \u001b[38;5;34m23\u001b[0m, \u001b[38;5;34m32\u001b[0m)     │             \u001b[38;5;34m0\u001b[0m │\n",
              "├─────────────────────────────────┼────────────────────────┼───────────────┤\n",
              "│ conv2d_5 (\u001b[38;5;33mConv2D\u001b[0m)               │ (\u001b[38;5;45mNone\u001b[0m, \u001b[38;5;34m33\u001b[0m, \u001b[38;5;34m21\u001b[0m, \u001b[38;5;34m32\u001b[0m)     │         \u001b[38;5;34m9,248\u001b[0m │\n",
              "├─────────────────────────────────┼────────────────────────┼───────────────┤\n",
              "│ max_pooling2d_5 (\u001b[38;5;33mMaxPooling2D\u001b[0m)  │ (\u001b[38;5;45mNone\u001b[0m, \u001b[38;5;34m16\u001b[0m, \u001b[38;5;34m10\u001b[0m, \u001b[38;5;34m32\u001b[0m)     │             \u001b[38;5;34m0\u001b[0m │\n",
              "├─────────────────────────────────┼────────────────────────┼───────────────┤\n",
              "│ flatten_2 (\u001b[38;5;33mFlatten\u001b[0m)             │ (\u001b[38;5;45mNone\u001b[0m, \u001b[38;5;34m5120\u001b[0m)           │             \u001b[38;5;34m0\u001b[0m │\n",
              "├─────────────────────────────────┼────────────────────────┼───────────────┤\n",
              "│ dense_4 (\u001b[38;5;33mDense\u001b[0m)                 │ (\u001b[38;5;45mNone\u001b[0m, \u001b[38;5;34m64\u001b[0m)             │       \u001b[38;5;34m327,744\u001b[0m │\n",
              "├─────────────────────────────────┼────────────────────────┼───────────────┤\n",
              "│ dropout_2 (\u001b[38;5;33mDropout\u001b[0m)             │ (\u001b[38;5;45mNone\u001b[0m, \u001b[38;5;34m64\u001b[0m)             │             \u001b[38;5;34m0\u001b[0m │\n",
              "├─────────────────────────────────┼────────────────────────┼───────────────┤\n",
              "│ dense_5 (\u001b[38;5;33mDense\u001b[0m)                 │ (\u001b[38;5;45mNone\u001b[0m, \u001b[38;5;34m3\u001b[0m)              │           \u001b[38;5;34m195\u001b[0m │\n",
              "└─────────────────────────────────┴────────────────────────┴───────────────┘\n"
            ],
            "text/html": [
              "<pre style=\"white-space:pre;overflow-x:auto;line-height:normal;font-family:Menlo,'DejaVu Sans Mono',consolas,'Courier New',monospace\">┏━━━━━━━━━━━━━━━━━━━━━━━━━━━━━━━━━┳━━━━━━━━━━━━━━━━━━━━━━━━┳━━━━━━━━━━━━━━━┓\n",
              "┃<span style=\"font-weight: bold\"> Layer (type)                    </span>┃<span style=\"font-weight: bold\"> Output Shape           </span>┃<span style=\"font-weight: bold\">       Param # </span>┃\n",
              "┡━━━━━━━━━━━━━━━━━━━━━━━━━━━━━━━━━╇━━━━━━━━━━━━━━━━━━━━━━━━╇━━━━━━━━━━━━━━━┩\n",
              "│ conv2d_4 (<span style=\"color: #0087ff; text-decoration-color: #0087ff\">Conv2D</span>)               │ (<span style=\"color: #00d7ff; text-decoration-color: #00d7ff\">None</span>, <span style=\"color: #00af00; text-decoration-color: #00af00\">70</span>, <span style=\"color: #00af00; text-decoration-color: #00af00\">46</span>, <span style=\"color: #00af00; text-decoration-color: #00af00\">32</span>)     │           <span style=\"color: #00af00; text-decoration-color: #00af00\">320</span> │\n",
              "├─────────────────────────────────┼────────────────────────┼───────────────┤\n",
              "│ max_pooling2d_4 (<span style=\"color: #0087ff; text-decoration-color: #0087ff\">MaxPooling2D</span>)  │ (<span style=\"color: #00d7ff; text-decoration-color: #00d7ff\">None</span>, <span style=\"color: #00af00; text-decoration-color: #00af00\">35</span>, <span style=\"color: #00af00; text-decoration-color: #00af00\">23</span>, <span style=\"color: #00af00; text-decoration-color: #00af00\">32</span>)     │             <span style=\"color: #00af00; text-decoration-color: #00af00\">0</span> │\n",
              "├─────────────────────────────────┼────────────────────────┼───────────────┤\n",
              "│ conv2d_5 (<span style=\"color: #0087ff; text-decoration-color: #0087ff\">Conv2D</span>)               │ (<span style=\"color: #00d7ff; text-decoration-color: #00d7ff\">None</span>, <span style=\"color: #00af00; text-decoration-color: #00af00\">33</span>, <span style=\"color: #00af00; text-decoration-color: #00af00\">21</span>, <span style=\"color: #00af00; text-decoration-color: #00af00\">32</span>)     │         <span style=\"color: #00af00; text-decoration-color: #00af00\">9,248</span> │\n",
              "├─────────────────────────────────┼────────────────────────┼───────────────┤\n",
              "│ max_pooling2d_5 (<span style=\"color: #0087ff; text-decoration-color: #0087ff\">MaxPooling2D</span>)  │ (<span style=\"color: #00d7ff; text-decoration-color: #00d7ff\">None</span>, <span style=\"color: #00af00; text-decoration-color: #00af00\">16</span>, <span style=\"color: #00af00; text-decoration-color: #00af00\">10</span>, <span style=\"color: #00af00; text-decoration-color: #00af00\">32</span>)     │             <span style=\"color: #00af00; text-decoration-color: #00af00\">0</span> │\n",
              "├─────────────────────────────────┼────────────────────────┼───────────────┤\n",
              "│ flatten_2 (<span style=\"color: #0087ff; text-decoration-color: #0087ff\">Flatten</span>)             │ (<span style=\"color: #00d7ff; text-decoration-color: #00d7ff\">None</span>, <span style=\"color: #00af00; text-decoration-color: #00af00\">5120</span>)           │             <span style=\"color: #00af00; text-decoration-color: #00af00\">0</span> │\n",
              "├─────────────────────────────────┼────────────────────────┼───────────────┤\n",
              "│ dense_4 (<span style=\"color: #0087ff; text-decoration-color: #0087ff\">Dense</span>)                 │ (<span style=\"color: #00d7ff; text-decoration-color: #00d7ff\">None</span>, <span style=\"color: #00af00; text-decoration-color: #00af00\">64</span>)             │       <span style=\"color: #00af00; text-decoration-color: #00af00\">327,744</span> │\n",
              "├─────────────────────────────────┼────────────────────────┼───────────────┤\n",
              "│ dropout_2 (<span style=\"color: #0087ff; text-decoration-color: #0087ff\">Dropout</span>)             │ (<span style=\"color: #00d7ff; text-decoration-color: #00d7ff\">None</span>, <span style=\"color: #00af00; text-decoration-color: #00af00\">64</span>)             │             <span style=\"color: #00af00; text-decoration-color: #00af00\">0</span> │\n",
              "├─────────────────────────────────┼────────────────────────┼───────────────┤\n",
              "│ dense_5 (<span style=\"color: #0087ff; text-decoration-color: #0087ff\">Dense</span>)                 │ (<span style=\"color: #00d7ff; text-decoration-color: #00d7ff\">None</span>, <span style=\"color: #00af00; text-decoration-color: #00af00\">3</span>)              │           <span style=\"color: #00af00; text-decoration-color: #00af00\">195</span> │\n",
              "└─────────────────────────────────┴────────────────────────┴───────────────┘\n",
              "</pre>\n"
            ]
          },
          "metadata": {}
        },
        {
          "output_type": "display_data",
          "data": {
            "text/plain": [
              "\u001b[1m Total params: \u001b[0m\u001b[38;5;34m337,507\u001b[0m (1.29 MB)\n"
            ],
            "text/html": [
              "<pre style=\"white-space:pre;overflow-x:auto;line-height:normal;font-family:Menlo,'DejaVu Sans Mono',consolas,'Courier New',monospace\"><span style=\"font-weight: bold\"> Total params: </span><span style=\"color: #00af00; text-decoration-color: #00af00\">337,507</span> (1.29 MB)\n",
              "</pre>\n"
            ]
          },
          "metadata": {}
        },
        {
          "output_type": "display_data",
          "data": {
            "text/plain": [
              "\u001b[1m Trainable params: \u001b[0m\u001b[38;5;34m337,507\u001b[0m (1.29 MB)\n"
            ],
            "text/html": [
              "<pre style=\"white-space:pre;overflow-x:auto;line-height:normal;font-family:Menlo,'DejaVu Sans Mono',consolas,'Courier New',monospace\"><span style=\"font-weight: bold\"> Trainable params: </span><span style=\"color: #00af00; text-decoration-color: #00af00\">337,507</span> (1.29 MB)\n",
              "</pre>\n"
            ]
          },
          "metadata": {}
        },
        {
          "output_type": "display_data",
          "data": {
            "text/plain": [
              "\u001b[1m Non-trainable params: \u001b[0m\u001b[38;5;34m0\u001b[0m (0.00 B)\n"
            ],
            "text/html": [
              "<pre style=\"white-space:pre;overflow-x:auto;line-height:normal;font-family:Menlo,'DejaVu Sans Mono',consolas,'Courier New',monospace\"><span style=\"font-weight: bold\"> Non-trainable params: </span><span style=\"color: #00af00; text-decoration-color: #00af00\">0</span> (0.00 B)\n",
              "</pre>\n"
            ]
          },
          "metadata": {}
        }
      ]
    },
    {
      "cell_type": "code",
      "source": [
        "model.compile(optimizer=Adam(0.001), loss='categorical_crossentropy', metrics=['accuracy'])"
      ],
      "metadata": {
        "id": "8c1eRxP0ubGT"
      },
      "execution_count": 73,
      "outputs": []
    },
    {
      "cell_type": "code",
      "source": [
        "# feeding to the model\n",
        "history = model.fit(X_scaled, train_labels_encoded, epochs=10, batch_size=64, validation_split=0.2, callbacks=[EarlyStopping(monitor='val_loss', patience=2)], verbose=2)"
      ],
      "metadata": {
        "colab": {
          "base_uri": "https://localhost:8080/"
        },
        "id": "j4SwDK5rqDte",
        "outputId": "e3d462f2-2ea9-48e8-9e52-c3f6ebe3d5ba"
      },
      "execution_count": 74,
      "outputs": [
        {
          "output_type": "stream",
          "name": "stdout",
          "text": [
            "Epoch 1/10\n",
            "19/19 - 7s - 374ms/step - accuracy: 0.7836 - loss: 0.6094 - val_accuracy: 0.9231 - val_loss: 0.3262\n",
            "Epoch 2/10\n",
            "19/19 - 9s - 453ms/step - accuracy: 0.8800 - loss: 0.3144 - val_accuracy: 0.9866 - val_loss: 0.1585\n",
            "Epoch 3/10\n",
            "19/19 - 6s - 312ms/step - accuracy: 0.9631 - loss: 0.1437 - val_accuracy: 0.9766 - val_loss: 0.0657\n",
            "Epoch 4/10\n",
            "19/19 - 4s - 223ms/step - accuracy: 0.9807 - loss: 0.0716 - val_accuracy: 0.9933 - val_loss: 0.0376\n",
            "Epoch 5/10\n",
            "19/19 - 4s - 234ms/step - accuracy: 0.9933 - loss: 0.0396 - val_accuracy: 0.9933 - val_loss: 0.0299\n",
            "Epoch 6/10\n",
            "19/19 - 5s - 252ms/step - accuracy: 0.9950 - loss: 0.0266 - val_accuracy: 0.9933 - val_loss: 0.0264\n",
            "Epoch 7/10\n",
            "19/19 - 4s - 187ms/step - accuracy: 0.9966 - loss: 0.0196 - val_accuracy: 0.9933 - val_loss: 0.0249\n",
            "Epoch 8/10\n",
            "19/19 - 4s - 187ms/step - accuracy: 0.9983 - loss: 0.0125 - val_accuracy: 0.9933 - val_loss: 0.0244\n",
            "Epoch 9/10\n",
            "19/19 - 6s - 334ms/step - accuracy: 0.9992 - loss: 0.0090 - val_accuracy: 0.9967 - val_loss: 0.0242\n",
            "Epoch 10/10\n",
            "19/19 - 4s - 210ms/step - accuracy: 0.9992 - loss: 0.0069 - val_accuracy: 0.9967 - val_loss: 0.0247\n"
          ]
        }
      ]
    },
    {
      "cell_type": "code",
      "source": [
        "# Final training accuracy\n",
        "final_train_acc = history.history['accuracy'][-1]\n",
        "\n",
        "# Final validation accuracy\n",
        "final_val_acc = history.history['val_accuracy'][-1]\n",
        "\n",
        "print(f\"Final Training Accuracy: {final_train_acc:.4f}\")\n",
        "print(f\"Final Validation Accuracy: {final_val_acc:.4f}\")"
      ],
      "metadata": {
        "colab": {
          "base_uri": "https://localhost:8080/"
        },
        "id": "apVsit_mjx5b",
        "outputId": "b5c1067c-337c-47dc-fc58-dd02339963e7"
      },
      "execution_count": 75,
      "outputs": [
        {
          "output_type": "stream",
          "name": "stdout",
          "text": [
            "Final Training Accuracy: 0.9992\n",
            "Final Validation Accuracy: 0.9967\n"
          ]
        }
      ]
    },
    {
      "cell_type": "code",
      "source": [
        "# loading Test data\n",
        "\n",
        "# file paths\n",
        "npy_path1 = '/content/drive/MyDrive/MyDrive/MLF/MPA-MLF_DATA_NEW/Test'\n",
        "\n",
        "#sort and load all files from the Test folder\n",
        "files_test = sorted([f for f in os.listdir(npy_path1)], key=lambda f: int(f.replace('.npy', '')))\n",
        "# Load each file and collect into a list\n",
        "X_test = [np.load(os.path.join(npy_path1, f)) for f in files_test]\n",
        "# stack into array\n",
        "X_test = np.stack(X_test)\n",
        "\n",
        "# showing shape of X_train\n",
        "print(X_test.shape)\n",
        "\n",
        "# Flatten: (1491, 72, 48) → (1491, 72 * 48)\n",
        "X_test_flat = X_test.reshape(X_test.shape[0], -1)\n",
        "\n",
        "# Standardize\n",
        "scaler = StandardScaler()\n",
        "X_scaled_flat_test = scaler.fit_transform(X_test_flat)\n",
        "\n",
        "# Reshape back: (1491, 72, 48)\n",
        "X_scaled_test = X_scaled_flat_test.reshape(X_test.shape)\n",
        "\n",
        "# showing shape of X_train scaled back after standardize\n",
        "print(X_scaled_test.shape)"
      ],
      "metadata": {
        "colab": {
          "base_uri": "https://localhost:8080/"
        },
        "id": "MkviprAwMOaA",
        "outputId": "b3fde781-fd37-4929-8402-ba3c78d11ba4"
      },
      "execution_count": 76,
      "outputs": [
        {
          "output_type": "stream",
          "name": "stdout",
          "text": [
            "(120, 72, 48)\n",
            "(120, 72, 48)\n"
          ]
        }
      ]
    },
    {
      "cell_type": "code",
      "source": [
        "predictions = model.predict(X_scaled_test)\n",
        "\n",
        "# Get predicted class indices\n",
        "predicted_classes = np.argmax(predictions, axis=1)\n",
        "\n",
        "# View them\n",
        "print(predicted_classes)\n",
        "print(predictions)"
      ],
      "metadata": {
        "colab": {
          "base_uri": "https://localhost:8080/"
        },
        "id": "tdzrWnH1uyKA",
        "outputId": "1585aa88-0df3-4cdb-de8e-e9db58d3ff65"
      },
      "execution_count": 77,
      "outputs": [
        {
          "output_type": "stream",
          "name": "stdout",
          "text": [
            "\u001b[1m4/4\u001b[0m \u001b[32m━━━━━━━━━━━━━━━━━━━━\u001b[0m\u001b[37m\u001b[0m \u001b[1m0s\u001b[0m 88ms/step\n",
            "[1 0 1 0 0 0 0 0 0 0 1 1 1 0 1 0 0 0 0 0 0 0 0 1 0 0 0 1 1 1 0 0 2 0 0 0 0\n",
            " 0 0 0 1 0 0 0 1 0 1 0 0 1 1 0 0 0 0 1 0 1 0 0 0 1 1 0 1 1 0 1 0 0 1 1 0 0\n",
            " 0 1 1 0 0 0 0 1 0 0 0 0 0 1 0 0 0 1 2 0 0 0 0 0 0 0 0 0 0 1 0 0 1 0 1 0 0\n",
            " 0 1 1 0 1 0 0 0 1]\n",
            "[[1.44462480e-04 9.99855518e-01 4.42116281e-08]\n",
            " [9.99999940e-01 3.28686349e-11 2.51399768e-09]\n",
            " [6.14546880e-04 9.99257684e-01 1.27841486e-04]\n",
            " [9.86661613e-01 1.05143827e-03 1.22869210e-02]\n",
            " [9.99999940e-01 4.58678824e-11 4.17942259e-09]\n",
            " [9.99999940e-01 4.73242723e-10 1.06160425e-09]\n",
            " [9.47446942e-01 6.36734883e-04 5.19163162e-02]\n",
            " [9.99999583e-01 2.48490206e-09 3.79739788e-07]\n",
            " [9.97719467e-01 1.00010860e-04 2.18048668e-03]\n",
            " [9.99999940e-01 5.18083043e-09 6.46259102e-10]\n",
            " [3.38082318e-03 9.96591330e-01 2.78093485e-05]\n",
            " [7.38995659e-05 9.99926031e-01 8.91177887e-09]\n",
            " [1.10535370e-03 9.98822510e-01 7.21122124e-05]\n",
            " [9.99999940e-01 1.49082371e-10 5.90429305e-09]\n",
            " [1.57982766e-04 9.99842167e-01 6.64402799e-09]\n",
            " [9.11009014e-01 2.40496622e-04 8.87503549e-02]\n",
            " [9.99999940e-01 3.92486182e-10 7.15446324e-09]\n",
            " [9.75756586e-01 4.09328641e-04 2.38339938e-02]\n",
            " [6.25894606e-01 7.87343085e-03 3.66231859e-01]\n",
            " [7.21317112e-01 1.14841282e-03 2.77534425e-01]\n",
            " [9.99999940e-01 4.78974360e-11 4.27832214e-09]\n",
            " [9.99999940e-01 2.10568004e-11 4.54561333e-10]\n",
            " [9.96366858e-01 2.45955162e-04 3.38712032e-03]\n",
            " [1.76300965e-02 9.78568435e-01 3.80145502e-03]\n",
            " [9.99999940e-01 7.40830897e-10 2.41150389e-08]\n",
            " [9.99999940e-01 5.84119364e-10 2.89719426e-09]\n",
            " [9.80948925e-01 4.27412351e-06 1.90466456e-02]\n",
            " [6.94402668e-04 9.99245405e-01 6.02548171e-05]\n",
            " [1.96367342e-04 9.99803543e-01 7.45179563e-08]\n",
            " [1.50742603e-03 9.98421907e-01 7.06102437e-05]\n",
            " [9.53872919e-01 1.66692349e-04 4.59603630e-02]\n",
            " [9.99999940e-01 1.29864411e-10 2.38936010e-10]\n",
            " [4.40570295e-01 9.76748578e-03 5.49662173e-01]\n",
            " [9.83842969e-01 1.75264468e-05 1.61395688e-02]\n",
            " [9.85933840e-01 8.61254157e-05 1.39799751e-02]\n",
            " [9.99999940e-01 1.09732101e-09 3.49453494e-10]\n",
            " [6.32443488e-01 2.77830171e-03 3.64778131e-01]\n",
            " [9.99999940e-01 4.54572602e-10 4.45870250e-11]\n",
            " [9.99996364e-01 2.12358884e-07 3.29538511e-06]\n",
            " [9.99999940e-01 2.82456662e-11 5.90233085e-10]\n",
            " [2.82343179e-02 9.68226910e-01 3.53881251e-03]\n",
            " [9.97624695e-01 2.58277461e-04 2.11700751e-03]\n",
            " [7.11582661e-01 1.15305029e-01 1.73112214e-01]\n",
            " [9.99999940e-01 1.71279727e-11 4.00921768e-10]\n",
            " [1.21773897e-04 9.99878109e-01 6.58068888e-09]\n",
            " [9.68001485e-01 2.60969828e-04 3.17375325e-02]\n",
            " [7.70060869e-05 9.99922931e-01 7.31183780e-09]\n",
            " [9.99999940e-01 1.66659699e-08 8.04256750e-09]\n",
            " [9.97847080e-01 1.59691655e-08 2.15294072e-03]\n",
            " [2.47293676e-04 9.99752522e-01 2.00623944e-07]\n",
            " [1.54099707e-02 9.34951782e-01 4.96382378e-02]\n",
            " [9.99999940e-01 5.47915394e-11 2.16274696e-08]\n",
            " [9.96420324e-01 2.19849630e-06 3.57740372e-03]\n",
            " [9.99999940e-01 7.32539029e-11 5.58348125e-11]\n",
            " [9.99999940e-01 4.80951737e-11 1.80469961e-09]\n",
            " [8.45041685e-03 9.90271509e-01 1.27797504e-03]\n",
            " [9.99999940e-01 3.02436288e-12 2.22633964e-13]\n",
            " [1.30317829e-04 9.99869823e-01 2.48344865e-08]\n",
            " [7.41954684e-01 2.23184004e-04 2.57822126e-01]\n",
            " [9.99999821e-01 1.94898444e-08 8.90912659e-08]\n",
            " [9.98896956e-01 2.47251023e-06 1.10057415e-03]\n",
            " [1.39749565e-04 9.99860287e-01 2.96935792e-08]\n",
            " [1.02279955e-04 9.99897659e-01 1.63384595e-08]\n",
            " [5.26556134e-01 4.64141369e-03 4.68802392e-01]\n",
            " [9.02428292e-03 9.90126967e-01 8.48743482e-04]\n",
            " [8.28961856e-05 9.99917090e-01 2.09882494e-08]\n",
            " [5.39449990e-01 2.31835176e-03 4.58231717e-01]\n",
            " [1.68902698e-04 9.99831200e-01 4.28298286e-08]\n",
            " [9.99999940e-01 2.05472901e-08 4.16758539e-09]\n",
            " [9.67789769e-01 9.45901120e-05 3.21154930e-02]\n",
            " [1.00805948e-04 9.99899089e-01 3.75146101e-08]\n",
            " [4.34983037e-02 9.42990899e-01 1.35107227e-02]\n",
            " [9.79181051e-01 8.27798704e-06 2.08105929e-02]\n",
            " [9.67398405e-01 7.90874983e-05 3.25223841e-02]\n",
            " [9.99357879e-01 6.96785030e-09 6.42112747e-04]\n",
            " [1.29448692e-03 9.98372674e-01 3.32752446e-04]\n",
            " [4.24942859e-02 9.41616774e-01 1.58889424e-02]\n",
            " [6.78525329e-01 6.97263889e-03 3.14502001e-01]\n",
            " [9.99478400e-01 3.03645407e-07 5.21181093e-04]\n",
            " [9.34211433e-01 2.32259231e-03 6.34659827e-02]\n",
            " [9.99999940e-01 1.16533556e-08 5.35981204e-10]\n",
            " [1.53226347e-03 9.98293161e-01 1.74446948e-04]\n",
            " [8.38812411e-01 7.54167268e-04 1.60433426e-01]\n",
            " [9.62847292e-01 2.54077162e-03 3.46119292e-02]\n",
            " [9.99999940e-01 1.85052629e-09 6.39783737e-09]\n",
            " [8.30229521e-01 6.20667590e-04 1.69149861e-01]\n",
            " [9.99999940e-01 6.33967590e-09 6.24017116e-10]\n",
            " [5.72260353e-04 9.99390006e-01 3.78139484e-05]\n",
            " [9.99999940e-01 6.74895806e-10 3.62518682e-09]\n",
            " [9.63240385e-01 5.91651151e-05 3.67005020e-02]\n",
            " [9.42829013e-01 3.33018741e-03 5.38407303e-02]\n",
            " [1.40159135e-03 9.98350978e-01 2.47316755e-04]\n",
            " [4.46104199e-01 1.34182884e-03 5.52553833e-01]\n",
            " [9.99999940e-01 8.08277403e-11 4.19209632e-11]\n",
            " [9.97763097e-01 9.17302941e-07 2.23592971e-03]\n",
            " [9.99999940e-01 2.02662123e-10 4.00964817e-09]\n",
            " [9.99999940e-01 1.82381627e-11 3.73011566e-10]\n",
            " [9.90619957e-01 8.61597073e-06 9.37140081e-03]\n",
            " [9.99999821e-01 3.74053322e-09 1.48274808e-07]\n",
            " [9.99999940e-01 4.60455185e-09 5.97278582e-09]\n",
            " [9.99999940e-01 1.21666108e-10 5.53971591e-10]\n",
            " [9.99999583e-01 3.64052655e-09 4.05795987e-07]\n",
            " [9.28879857e-01 1.97433550e-02 5.13768420e-02]\n",
            " [9.68906243e-05 9.99903023e-01 3.50693945e-08]\n",
            " [9.93950009e-01 2.59798571e-06 6.04739180e-03]\n",
            " [9.95658696e-01 5.91230601e-05 4.28215181e-03]\n",
            " [1.10422749e-04 9.99889553e-01 4.97489339e-09]\n",
            " [9.99999940e-01 2.98679241e-11 1.03871606e-10]\n",
            " [1.69539562e-04 9.99830484e-01 7.56882468e-09]\n",
            " [8.23873222e-01 1.10433029e-03 1.75022513e-01]\n",
            " [8.75057459e-01 1.87777536e-04 1.24754794e-01]\n",
            " [9.99999821e-01 3.35433548e-09 8.49959179e-08]\n",
            " [1.96187213e-01 6.85506523e-01 1.18306302e-01]\n",
            " [9.54709758e-05 9.99904454e-01 2.03353476e-08]\n",
            " [9.99999940e-01 1.28709612e-10 1.42638279e-09]\n",
            " [8.99292208e-05 9.99910057e-01 3.25595693e-08]\n",
            " [9.02537346e-01 1.43452955e-03 9.60280597e-02]\n",
            " [9.99999940e-01 6.97047142e-11 2.06887329e-09]\n",
            " [9.99999940e-01 4.96960233e-08 1.74857107e-09]\n",
            " [2.94966670e-03 9.97006178e-01 4.40400254e-05]]\n"
          ]
        }
      ]
    },
    {
      "cell_type": "code",
      "source": [
        "\n",
        "\n",
        "\n",
        "# Convert filenames to IDs\n",
        "ids = [int(f.replace('.npy', '')) for f in files_test]\n",
        "predicted_classes = np.array(predicted_classes).flatten()\n",
        "\n",
        "# Create submission DataFrame\n",
        "submission_df = pd.DataFrame({\n",
        "    'ID': ids,\n",
        "    'target': predicted_classes\n",
        "})\n",
        "\n",
        "# Sort by ID (optional but tidy)\n",
        "submission_df = submission_df.sort_values(by='ID')\n",
        "\n",
        "# Save with correct format\n",
        "submission_df.to_csv('submission.csv', index=False)\n",
        "\n",
        "# Optional: download in Colab\n",
        "from google.colab import files\n",
        "files.download('submission.csv')"
      ],
      "metadata": {
        "colab": {
          "base_uri": "https://localhost:8080/",
          "height": 17
        },
        "id": "gk0FUPGG3bAx",
        "outputId": "cf3e0b96-569f-4027-b8e3-5e3f8651cee8"
      },
      "execution_count": 90,
      "outputs": [
        {
          "output_type": "display_data",
          "data": {
            "text/plain": [
              "<IPython.core.display.Javascript object>"
            ],
            "application/javascript": [
              "\n",
              "    async function download(id, filename, size) {\n",
              "      if (!google.colab.kernel.accessAllowed) {\n",
              "        return;\n",
              "      }\n",
              "      const div = document.createElement('div');\n",
              "      const label = document.createElement('label');\n",
              "      label.textContent = `Downloading \"${filename}\": `;\n",
              "      div.appendChild(label);\n",
              "      const progress = document.createElement('progress');\n",
              "      progress.max = size;\n",
              "      div.appendChild(progress);\n",
              "      document.body.appendChild(div);\n",
              "\n",
              "      const buffers = [];\n",
              "      let downloaded = 0;\n",
              "\n",
              "      const channel = await google.colab.kernel.comms.open(id);\n",
              "      // Send a message to notify the kernel that we're ready.\n",
              "      channel.send({})\n",
              "\n",
              "      for await (const message of channel.messages) {\n",
              "        // Send a message to notify the kernel that we're ready.\n",
              "        channel.send({})\n",
              "        if (message.buffers) {\n",
              "          for (const buffer of message.buffers) {\n",
              "            buffers.push(buffer);\n",
              "            downloaded += buffer.byteLength;\n",
              "            progress.value = downloaded;\n",
              "          }\n",
              "        }\n",
              "      }\n",
              "      const blob = new Blob(buffers, {type: 'application/binary'});\n",
              "      const a = document.createElement('a');\n",
              "      a.href = window.URL.createObjectURL(blob);\n",
              "      a.download = filename;\n",
              "      div.appendChild(a);\n",
              "      a.click();\n",
              "      div.remove();\n",
              "    }\n",
              "  "
            ]
          },
          "metadata": {}
        },
        {
          "output_type": "display_data",
          "data": {
            "text/plain": [
              "<IPython.core.display.Javascript object>"
            ],
            "application/javascript": [
              "download(\"download_b4db9d01-59d7-4f8e-9bfa-d5ac037c82f7\", \"submission.csv\", 620)"
            ]
          },
          "metadata": {}
        }
      ]
    },
    {
      "cell_type": "code",
      "source": [],
      "metadata": {
        "colab": {
          "base_uri": "https://localhost:8080/"
        },
        "id": "gWYCchbJ7AoD",
        "outputId": "03b9a2a2-32ce-4164-f8b0-7ce2ea4c0c8d"
      },
      "execution_count": 91,
      "outputs": [
        {
          "output_type": "stream",
          "name": "stdout",
          "text": [
            "   ID  target\n",
            "0   0       1\n",
            "1   1       0\n",
            "2   2       1\n",
            "3   3       0\n",
            "4   4       0\n",
            "ID,target\n",
            "0,1\n",
            "1,0\n",
            "2,1\n",
            "3,0\n",
            "4,0\n",
            "5,0\n",
            "6,0\n",
            "7,0\n",
            "8,0\n",
            "9,0\n",
            "10,1\n",
            "11,1\n",
            "12,1\n",
            "13,0\n",
            "14,1\n",
            "15,0\n",
            "16,0\n",
            "17,0\n",
            "18,0\n",
            "19,0\n",
            "20,0\n",
            "21,0\n",
            "22,0\n",
            "23,1\n",
            "24,0\n",
            "25,0\n",
            "26,0\n",
            "27,1\n",
            "28,1\n",
            "29,1\n",
            "30,0\n",
            "31,0\n",
            "32,2\n",
            "33,0\n",
            "34,0\n",
            "35,0\n",
            "36,0\n",
            "37,0\n",
            "38,0\n",
            "39,0\n",
            "40,1\n",
            "41,0\n",
            "42,0\n",
            "43,0\n",
            "44,1\n",
            "45,0\n",
            "46,1\n",
            "47,0\n",
            "48,0\n",
            "49,1\n",
            "50,1\n",
            "51,0\n",
            "52,0\n",
            "53,0\n",
            "54,0\n",
            "55,1\n",
            "56,0\n",
            "57,1\n",
            "58,0\n",
            "59,0\n",
            "60,0\n",
            "61,1\n",
            "62,1\n",
            "63,0\n",
            "64,1\n",
            "65,1\n",
            "66,0\n",
            "67,1\n",
            "68,0\n",
            "69,0\n",
            "70,1\n",
            "71,1\n",
            "72,0\n",
            "73,0\n",
            "74,0\n",
            "75,1\n",
            "76,1\n",
            "77,0\n",
            "78,0\n",
            "79,0\n",
            "80,0\n",
            "81,1\n",
            "82,0\n",
            "83,0\n",
            "84,0\n",
            "85,0\n",
            "86,0\n",
            "87,1\n",
            "88,0\n",
            "89,0\n",
            "90,0\n",
            "91,1\n",
            "92,2\n",
            "93,0\n",
            "94,0\n",
            "95,0\n",
            "96,0\n",
            "97,0\n",
            "98,0\n",
            "99,0\n",
            "100,0\n",
            "101,0\n",
            "102,0\n",
            "103,1\n",
            "104,0\n",
            "105,0\n",
            "106,1\n",
            "107,0\n",
            "108,1\n",
            "109,0\n",
            "110,0\n",
            "111,0\n",
            "112,1\n",
            "113,1\n",
            "114,0\n",
            "115,1\n",
            "116,0\n",
            "117,0\n",
            "118,0\n",
            "119,1\n",
            "\n"
          ]
        }
      ]
    }
  ]
}