{
  "nbformat": 4,
  "nbformat_minor": 0,
  "metadata": {
    "colab": {
      "provenance": [],
      "authorship_tag": "ABX9TyOSdOiWVbJh9/UENTN//PAb",
      "include_colab_link": true
    },
    "kernelspec": {
      "name": "python3",
      "display_name": "Python 3"
    },
    "language_info": {
      "name": "python"
    }
  },
  "cells": [
    {
      "cell_type": "markdown",
      "metadata": {
        "id": "view-in-github",
        "colab_type": "text"
      },
      "source": [
        "<a href=\"https://colab.research.google.com/github/SimonParadise/MPA-MLF-Buchta-228812/blob/main/lab3Kmean.ipynb\" target=\"_parent\"><img src=\"https://colab.research.google.com/assets/colab-badge.svg\" alt=\"Open In Colab\"/></a>"
      ]
    },
    {
      "cell_type": "code",
      "execution_count": 3,
      "metadata": {
        "colab": {
          "base_uri": "https://localhost:8080/",
          "height": 501
        },
        "id": "hbmBrfDFWpUU",
        "outputId": "b22e91b3-f2f8-493e-d2db-a43a0f84ed68"
      },
      "outputs": [
        {
          "output_type": "stream",
          "name": "stdout",
          "text": [
            "(60, 2)\n",
            "[[ 3.00786776  1.8599373 ]\n",
            " [15.75831528 15.98074375]\n",
            " [ 2.53970335  5.26471704]]\n"
          ]
        },
        {
          "output_type": "display_data",
          "data": {
            "text/plain": [
              "<Figure size 640x480 with 1 Axes>"
            ],
            "image/png": "[encoded data removed]"
          },
          "metadata": {}
        }
      ],
      "source": [
        "import matplotlib.pyplot as plt\n",
        "import copy\n",
        "import numpy as np\n",
        "from numpy.linalg import norm\n",
        "from sklearn.cluster import KMeans\n",
        "\n",
        "loaded_points = np.load('sample_data/data/k_mean_points.npy')\n",
        "\n",
        "plt.figure()\n",
        "plt.scatter(loaded_points[:,0],loaded_points[:,1])\n",
        "print(loaded_points.shape)\n",
        "\n",
        "k = 3\n",
        "\n",
        "def initialize_clusters(points: np.ndarray, k_clusters: int) -> np.ndarray:\n",
        "    \"\"\"\n",
        "    Initializes and returns k random centroids from the given dataset.\n",
        "\n",
        "    :param points: Array of data points.\n",
        "    :type: points ndarray with shape (n, 2)\n",
        "\n",
        "    :param k_clusters: The number of clusters to form\n",
        "    :type k_clusters: int\n",
        "\n",
        "\n",
        "    :return: initial_clusters\n",
        "    initial_clusters: Array of initialized centroids\n",
        "\n",
        "    :rtype:\n",
        "    initial_clusters: np.array (k_clusters, 2)\n",
        "    :\n",
        "\n",
        "    \"\"\"\n",
        "\n",
        "    ###################################\n",
        "    # Write your own code here #\n",
        "    random_indices = np.random.choice(points.shape[0], size=k_clusters, replace=False)\n",
        "\n",
        "    initial_clusters = points[random_indices]\n",
        "\n",
        "\n",
        "\n",
        "    ###################################\n",
        "\n",
        "    return initial_clusters\n",
        "\n",
        "initial_clusters = initialize_clusters(loaded_points, k)\n",
        "print(initial_clusters)"
      ]
    },
    {
      "cell_type": "code",
      "source": [
        "def calculate_metric(points: np.ndarray, centroid: np.ndarray) -> np.ndarray:\n",
        "    \"\"\"\n",
        "    Calculates the distance metric between each point and a given centroid.\n",
        "\n",
        "    Parameters:\n",
        "    :param points: Array of n data points.\n",
        "    :type points: ndarray with shape (n, 2)\n",
        "\n",
        "    :param centroid: A single centroid\n",
        "    :type centroid: ndarray with shape (1, 2)\n",
        "\n",
        "    :return: distances_array\n",
        "    distances_array: Array of distances from point to centroid\n",
        "\n",
        "    :rtype:\n",
        "    distances_array: ndarray with shape (n,)\n",
        "    :\n",
        "    \"\"\"\n",
        "\n",
        "    ###################################\n",
        "    # Write your own code here #\n",
        "    distances_array = np.linalg.norm(points - centroid, axis=1)\n",
        "\n",
        "\n",
        "    ###################################\n",
        "\n",
        "    return distances_array\n",
        "\n",
        "\n",
        "metrics = calculate_metric(loaded_points, initial_clusters[0])\n",
        "print(metrics)"
      ],
      "metadata": {
        "colab": {
          "base_uri": "https://localhost:8080/"
        },
        "id": "aRoWB5tPfejJ",
        "outputId": "f558012a-abc4-4d35-ab3f-989cdfe18e1c"
      },
      "execution_count": 4,
      "outputs": [
        {
          "output_type": "stream",
          "name": "stdout",
          "text": [
            "[ 1.8446794   3.95430449  4.5569066   4.27173183  4.50590483  4.85594092\n",
            "  1.7489107   3.50707359  3.43681582  2.07320624  2.2260678   3.11545123\n",
            "  0.          3.90730009  1.92257526  1.69827885  2.51086459  2.91359409\n",
            "  3.26743142  3.49784037  9.25133042  7.02011215  9.35039337  8.79538025\n",
            "  8.57758207  9.34715438  6.66821237 10.14494363  7.78263471  8.33872909\n",
            "  8.32378362 11.63247196  7.66342859  5.09337414  6.00948113  7.67827127\n",
            "  7.59548181 10.1996878   8.88412875  6.65109566 16.98477517 18.74810844\n",
            " 16.55352947 16.76279061 15.06831274 18.56513516 15.29294583 14.0312504\n",
            " 13.66049709 12.50936596 12.93343353 17.29681823 17.34290445 16.07456988\n",
            " 16.05023583 16.37862038 18.3919078  19.02553775 17.0361406  12.65625506]\n"
          ]
        }
      ]
    },
    {
      "cell_type": "code",
      "source": [
        "def compute_distances(points: np.ndarray, centroids_points: np.ndarray) -> np.ndarray:\n",
        "    \"\"\"\n",
        "    Computes and returns the distance from each point to each centroid.\n",
        "\n",
        "    Parameters:\n",
        "    :param points: Array of n data points.\n",
        "    :type points: ndarray with shape (n, 2)\n",
        "\n",
        "    :param centroids_points: A all centroid points\n",
        "    :type centroids_points: ndarray with shape (k_clusters, 2)\n",
        "\n",
        "\n",
        "    :return: distances_array\n",
        "    distances_array: 2D array with distances of each point to each centroid.\n",
        "\n",
        "    :rtype:\n",
        "    distances_array: ndarray of shape (k_clusters, n)\n",
        "    \"\"\"\n",
        "    ###################################\n",
        "    # Write your own code here #\n",
        "\n",
        "\n",
        "\n",
        "    # Initialize an empty list to store distances for each centroid\n",
        "    distances_list = []\n",
        "\n",
        "    # Loop through each centroid and calculate distances from all points to the centroid\n",
        "    for centroid in centroids_points:\n",
        "        distances_to_centroid = calculate_metric(points, centroid)\n",
        "\n",
        "        # Append the distances of all points to the current centroid into the distances_list\n",
        "        distances_list.append(distances_to_centroid)\n",
        "\n",
        "    # Stack the list of distances into a 2D array (n, k_clusters)\n",
        "    distances_array = np.array(distances_list).T  # Transpose to get shape (n, k_clusters)\n",
        "\n",
        "    ###################################\n",
        "\n",
        "    return distances_array\n",
        "\n",
        "distances = compute_distances(loaded_points,initial_clusters)\n",
        "print(distances)"
      ],
      "metadata": {
        "colab": {
          "base_uri": "https://localhost:8080/"
        },
        "id": "CQODIUNcg7Jo",
        "outputId": "8184cba7-c27d-4f76-fe24-777fed7d45b4"
      },
      "execution_count": 5,
      "outputs": [
        {
          "output_type": "stream",
          "name": "stdout",
          "text": [
            "[[ 1.8446794  17.89879969  4.17403823]\n",
            " [ 3.95430449 15.44699816  4.38639828]\n",
            " [ 4.5569066  14.55037317  2.95491256]\n",
            " [ 4.27173183 14.79074279  2.94595332]\n",
            " [ 4.50590483 14.54846742  3.82187345]\n",
            " [ 4.85594092 18.27702895  2.20847182]\n",
            " [ 1.7489107  17.71908661  3.85065329]\n",
            " [ 3.50707359 15.70210277  1.97645187]\n",
            " [ 3.43681582 17.01660747  0.        ]\n",
            " [ 2.07320624 21.03817677  4.71588642]\n",
            " [ 2.2260678  21.2305503   5.31164275]\n",
            " [ 3.11545123 18.57101805  5.86169465]\n",
            " [ 0.         19.02553775  3.43681582]\n",
            " [ 3.90730009 18.3769033   6.50289423]\n",
            " [ 1.92257526 19.65193517  2.86230722]\n",
            " [ 1.69827885 19.95203225  3.30181555]\n",
            " [ 2.51086459 17.69020271  0.95677199]\n",
            " [ 2.91359409 18.10103066  1.0897052 ]\n",
            " [ 3.26743142 18.24749574  5.84429292]\n",
            " [ 3.49784037 15.68934385  2.03309145]\n",
            " [ 9.25133042  9.89157106  7.15219888]\n",
            " [ 7.02011215 12.03038069  5.25508852]\n",
            " [ 9.35039337 10.54396479  6.68100562]\n",
            " [ 8.79538025 11.64995724  5.86437922]\n",
            " [ 8.57758207 10.59872065  7.35260252]\n",
            " [ 9.34715438  9.7135201   7.40563397]\n",
            " [ 6.66821237 12.65847725  4.37661003]\n",
            " [10.14494363  9.06205497  8.78164037]\n",
            " [ 7.78263471 11.29988396  5.8542728 ]\n",
            " [ 8.33872909 10.69222076  6.57750069]\n",
            " [ 8.32378362 11.94244874  8.09581278]\n",
            " [11.63247196  7.53100168  9.48583169]\n",
            " [ 7.66342859 12.11982328  7.2490124 ]\n",
            " [ 5.09337414 13.94044763  3.73200181]\n",
            " [ 6.00948113 13.05512898  4.94188304]\n",
            " [ 7.67827127 11.47606328  6.54478972]\n",
            " [ 7.59548181 12.12192765  4.95529102]\n",
            " [10.1996878   9.1324437   7.89517637]\n",
            " [ 8.88412875 10.14284985  7.1275753 ]\n",
            " [ 6.65109566 12.46707868  5.61967626]\n",
            " [16.98477517  4.21902729 14.43767298]\n",
            " [18.74810844  1.28366353 16.94210875]\n",
            " [16.55352947  3.3574197  14.2139132 ]\n",
            " [16.76279061  2.54593758 14.59461164]\n",
            " [15.06831274  4.02733055 13.25633432]\n",
            " [18.56513516  1.78979201 16.29936626]\n",
            " [15.29294583  3.87921891 13.53140047]\n",
            " [14.0312504   4.99442788 12.11390727]\n",
            " [13.66049709  5.83477317 12.19664338]\n",
            " [12.50936596  6.75867453 10.99701687]\n",
            " [12.93343353  6.54979953 11.52849613]\n",
            " [17.29681823  1.81269379 15.22257184]\n",
            " [17.34290445  1.68503432 15.34170627]\n",
            " [16.07456988  4.66121133 13.53571914]\n",
            " [16.05023583  5.15242538 14.85268668]\n",
            " [16.37862038  4.22094278 13.88723612]\n",
            " [18.3919078   0.88705899 16.29406451]\n",
            " [19.02553775  0.         17.01660747]\n",
            " [17.0361406   4.72534221 14.40801505]\n",
            " [12.65625506  6.38049323 10.84466246]]\n"
          ]
        }
      ]
    },
    {
      "cell_type": "code",
      "source": [
        "def assign_centroids(distances: np.ndarray) -> np.ndarray:\n",
        "    \"\"\"\n",
        "    Assigns each point to the closest centroid based on the distances.\n",
        "\n",
        "    Parameters:\n",
        "    :param distances: 2D array with distances of each point to each centroid.\n",
        "    :type distances: ndarray with shape (k_clusters, n)\n",
        "\n",
        "    :return: assigned_clusters\n",
        "    assigned_clusters: Array indicating the closest centroid for each data point.\n",
        "\n",
        "    :rtype:\n",
        "    assigned_centroids: ndarray with shape (1, n) and dtype = np.int32\n",
        "    \"\"\"\n",
        "\n",
        "    ###################################\n",
        "    # Write your own code here #\n",
        "    # Find the index of the closest centroid for each data point (across rows)\n",
        "    assigned_centroids = np.argmin(distances, axis=1) #axis=0 - across rows\n",
        "\n",
        "    # Convert to a 1D array and ensure dtype is np.int32\n",
        "    assigned_centroids = assigned_centroids.astype(np.int32)\n",
        "\n",
        "    # Make sure the returned array has shape (1, n)\n",
        "    assigned_centroids = assigned_centroids[np.newaxis, :]  # Reshape to (1, n)\n",
        "\n",
        "\n",
        "\n",
        "\n",
        "    ###################################\n",
        "\n",
        "    return assigned_centroids\n",
        "\n",
        "assigned_centroids = assign_centroids(distances)\n",
        "\n",
        "print(assigned_centroids)"
      ],
      "metadata": {
        "colab": {
          "base_uri": "https://localhost:8080/"
        },
        "id": "8L-ERoFllNbf",
        "outputId": "dc5dad8a-4a1f-4edf-b290-f76329e69fcb"
      },
      "execution_count": 6,
      "outputs": [
        {
          "output_type": "stream",
          "name": "stdout",
          "text": [
            "[[0 0 2 2 2 2 0 2 2 0 0 0 0 0 0 0 2 2 0 2 2 2 2 2 2 2 2 2 2 2 2 1 2 2 2 2\n",
            "  2 2 2 2 1 1 1 1 1 1 1 1 1 1 1 1 1 1 1 1 1 1 1 1]]\n"
          ]
        }
      ]
    },
    {
      "cell_type": "code",
      "source": [
        "def calculate_objective(assigned_centroids: np.ndarray, distances: np.ndarray) -> np.ndarray:\n",
        "    \"\"\"\n",
        "    Calculates and returns the objective function value for the clustering.\n",
        "\n",
        "    Parameters:\n",
        "    :param assigned_centroids: Array indicating the cluster assignment for each point.\n",
        "    :type assigned_centroids: ndarray with shape (1, n) and and dtype = np.int64\n",
        "\n",
        "    :param distances: 2D array with distances of each point to each centroid\n",
        "    :type distances: ndarray with shape (k_clusters, n) and and dtype = np.float64\n",
        "\n",
        "    :return: onjective_function_value\n",
        "    onjective_function_value: Objective function value.\n",
        "\n",
        "    :rtype:\n",
        "    onjective_function_value: float32\n",
        "\n",
        "\n",
        "    \"\"\"\n",
        "    ###################################\n",
        "    # Write your own code here #\n",
        "    objective_function_value = np.sum(distances[np.arange(60), assigned_centroids] ** 2)\n",
        "\n",
        "    ###################################\n",
        "\n",
        "    return objective_function_value\n",
        "\n",
        "\n",
        "objective_function_value = calculate_objective(assigned_centroids,distances)\n",
        "print(objective_function_value)\n",
        "\n",
        "print(distances[np.arange(60), assigned_centroids])"
      ],
      "metadata": {
        "colab": {
          "base_uri": "https://localhost:8080/"
        },
        "id": "tYKVV_Hforn2",
        "outputId": "75d48402-4a56-47e3-c1ad-4b660bc44fd5"
      },
      "execution_count": 7,
      "outputs": [
        {
          "output_type": "stream",
          "name": "stdout",
          "text": [
            "1341.6733388167495\n",
            "[[1.8446794  3.95430449 2.95491256 2.94595332 3.82187345 2.20847182\n",
            "  1.7489107  1.97645187 0.         2.07320624 2.2260678  3.11545123\n",
            "  0.         3.90730009 1.92257526 1.69827885 0.95677199 1.0897052\n",
            "  3.26743142 2.03309145 7.15219888 5.25508852 6.68100562 5.86437922\n",
            "  7.35260252 7.40563397 4.37661003 8.78164037 5.8542728  6.57750069\n",
            "  8.09581278 7.53100168 7.2490124  3.73200181 4.94188304 6.54478972\n",
            "  4.95529102 7.89517637 7.1275753  5.61967626 4.21902729 1.28366353\n",
            "  3.3574197  2.54593758 4.02733055 1.78979201 3.87921891 4.99442788\n",
            "  5.83477317 6.75867453 6.54979953 1.81269379 1.68503432 4.66121133\n",
            "  5.15242538 4.22094278 0.88705899 0.         4.72534221 6.38049323]]\n"
          ]
        }
      ]
    },
    {
      "cell_type": "code",
      "source": [
        "def calculate_new_centroids(points: np.ndarray, assigned_centroids: np.ndarray, k_clusters: int) -> np.ndarray:\n",
        "  \"\"\"\n",
        "  Computes new centroids based on the current cluster assignments.\n",
        "\n",
        "  Parameters:\n",
        "  :param points: Array of n data points.\n",
        "  :type points: ndarray with shape (n, 2)\n",
        "\n",
        "  :param assigned_centroids: Array indicating the closest centroid for each data point.\n",
        "  :type assigned_centroids: ndarray with shape (1, n) and dtype = np.int32\n",
        "\n",
        "\n",
        "  :param k_clusters: Number of clusters.\n",
        "  :type k_clusters: int\n",
        "\n",
        "\n",
        "  :return: new_clusters\n",
        "  new_clusters: new cluster points\n",
        "\n",
        "  :rtype:\n",
        "  new_clusters: ndarray with shape (1, n) and dtype = np.float32\n",
        "  \"\"\"\n",
        "\n",
        "  ###################################\n",
        "  # Write your own code here #\n",
        "\n",
        "  #Ensure it's 1D\n",
        "  assigned_centroids = assigned_centroids.flatten()\n",
        "  # Initialize new centroids\n",
        "  new_clusters = np.zeros((k_clusters, 2), dtype=np.float32)\n",
        "\n",
        "  for k in range(k_clusters):\n",
        "      # Get all points assigned to cluster k\n",
        "      cluster_points = points[assigned_centroids == k]\n",
        "\n",
        "      if len(cluster_points) > 0:\n",
        "          # Compute mean position for the new centroid\n",
        "          new_clusters[k] = np.mean(cluster_points, axis=0)\n",
        "\n",
        "  ###################################\n",
        "\n",
        "  return new_clusters\n",
        "\n",
        "new_clusters = calculate_new_centroids(loaded_points, assigned_centroids,k)\n",
        "print(new_clusters)\n",
        "print(initial_clusters)\n",
        "\n",
        "assigned_centroids = assigned_centroids.flatten()[:, np.newaxis]  # Shape (60, 1)\n",
        "combined_array = np.column_stack((loaded_points, assigned_centroids))\n",
        "filtered_points0 = combined_array[combined_array[:, 2] == 0]\n",
        "filtered_points1 = combined_array[combined_array[:, 2] == 1]\n",
        "filtered_points2 = combined_array[combined_array[:, 2] == 2]\n",
        "\n",
        "plt.figure()\n",
        "plt.scatter(filtered_points0[:,0],filtered_points0[:,1], color=\"red\")\n",
        "plt.scatter(filtered_points1[:,0],filtered_points1[:,1], color=\"blue\")\n",
        "plt.scatter(filtered_points2[:,0],filtered_points2[:,1], color=\"green\")\n",
        "plt.scatter(initial_clusters[:,0],initial_clusters[:,1], color=\"cyan\")\n",
        "plt.scatter(new_clusters[:,0],new_clusters[:,1], color=\"black\")"
      ],
      "metadata": {
        "colab": {
          "base_uri": "https://localhost:8080/",
          "height": 553
        },
        "id": "JT_2eTbMWO4z",
        "outputId": "4a044464-68fc-4d48-c048-7d8217185586"
      },
      "execution_count": 19,
      "outputs": [
        {
          "output_type": "stream",
          "name": "stdout",
          "text": [
            "[[ 3.916363   1.4489374]\n",
            " [13.241032  13.810114 ]\n",
            " [ 6.6961317  6.985996 ]]\n",
            "[[ 3.00786776  1.8599373 ]\n",
            " [15.75831528 15.98074375]\n",
            " [ 2.53970335  5.26471704]]\n"
          ]
        },
        {
          "output_type": "execute_result",
          "data": {
            "text/plain": [
              "<matplotlib.collections.PathCollection at 0x7a50c1337d10>"
            ]
          },
          "metadata": {},
          "execution_count": 19
        },
        {
          "output_type": "display_data",
          "data": {
            "text/plain": [
              "<Figure size 640x480 with 1 Axes>"
            ],
            "image/png": "[encoded data removed]"
          },
          "metadata": {}
        }
      ]
    },
    {
      "cell_type": "code",
      "source": [
        "def fit(points: np.ndarray, k_clusters: int, n_of_oterations: int, error: float = 0.001) -> tuple:\n",
        "  \"\"\"\n",
        "  Fits the k-means clustering model on the dataset.\n",
        "\n",
        "  Parameters:\n",
        "  :param points : Array of data points.\n",
        "  :type points: ndarray with shape (n, 2) and dtype = np.float32\n",
        "\n",
        "  :param k_clusters:  Number of clusters\n",
        "  :type k_clusters: int\n",
        "\n",
        "  :param n_of_oterations:  Maximum number of iterations\n",
        "  :type n_of_oterations: int\n",
        "\n",
        "\n",
        "  :param error: Threshold for convergence.\n",
        "  :type error: float\n",
        "\n",
        "  :return: centroid_points, last_objective\n",
        "  centroid_points: final centroid points\n",
        "  last_objective: final objective funtion\n",
        "\n",
        "  :rtype:\n",
        "  centroid_points: ndarray with shape (k_clusters, 2) and dtype = np.float32\n",
        "  last_objective: float\n",
        "\n",
        "  \"\"\"\n",
        "\n",
        "  ###################################\n",
        "  # Write your own code here #\n",
        "\n",
        "  # Step 1: Initialize centroids randomly from the dataset\n",
        "  initial_clusters = initialize_clusters(loaded_points, k)\n",
        "  #last_objective = 10000.0\n",
        "\n",
        "  for _ in range(n_of_oterations):\n",
        "      # Step 2: Compute distances and assign points to the nearest centroid\n",
        "      distances = compute_distances(loaded_points,initial_clusters)\n",
        "      assigned_centroids = assign_centroids(distances)\n",
        "\n",
        "      # Step 3: Compute new centroids\n",
        "      new_clusters = calculate_new_centroids(loaded_points, assigned_centroids,k)\n",
        "\n",
        "      # Step 4: Compute the objective function (Sum of Squared Distances)\n",
        "      last_objective = calculate_objective(assigned_centroids,distances)\n",
        "\n",
        "      # Step 5: Check for convergence\n",
        "      if  np.linalg.norm(new_clusters - initial_clusters) < error:\n",
        "          break\n",
        "\n",
        "      centroid_points = new_clusters  # Update centroids\n",
        "\n",
        "  ###################################\n",
        "\n",
        "  return centroid_points, last_objective\n",
        "\n",
        "n_of_iterations = 10000\n",
        "final_centroids, objective_value = fit(loaded_points, k, n_of_iterations)\n",
        "\n",
        "print(objective_value)\n",
        "plt.figure()\n",
        "plt.scatter(filtered_points0[:,0],filtered_points0[:,1], color=\"red\")\n",
        "plt.scatter(filtered_points1[:,0],filtered_points1[:,1], color=\"blue\")\n",
        "plt.scatter(filtered_points2[:,0],filtered_points2[:,1], color=\"green\")\n",
        "plt.scatter(final_centroids[:,0],final_centroids[:,1], color=\"cyan\")"
      ],
      "metadata": {
        "colab": {
          "base_uri": "https://localhost:8080/",
          "height": 467
        },
        "id": "7aSPKUgQyC-u",
        "outputId": "4ee58219-741b-4ece-d728-2b5cd19a488e"
      },
      "execution_count": 32,
      "outputs": [
        {
          "output_type": "stream",
          "name": "stdout",
          "text": [
            "903.1134628018915\n"
          ]
        },
        {
          "output_type": "execute_result",
          "data": {
            "text/plain": [
              "<matplotlib.collections.PathCollection at 0x7a50c0d76b90>"
            ]
          },
          "metadata": {},
          "execution_count": 32
        },
        {
          "output_type": "display_data",
          "data": {
            "text/plain": [
              "<Figure size 640x480 with 1 Axes>"
            ],
            "image/png": "[encoded data removed]"
          },
          "metadata": {}
        }
      ]
    }
  ]
}